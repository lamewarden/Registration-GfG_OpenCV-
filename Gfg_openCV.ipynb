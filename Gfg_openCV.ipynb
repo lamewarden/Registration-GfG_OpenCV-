{
 "cells": [
  {
   "cell_type": "code",
   "execution_count": 1,
   "metadata": {},
   "outputs": [],
   "source": [
    "# import block\n",
    "import cv2\n",
    "import numpy as np\n",
    "from pathlib import Path\n",
    "import os\n",
    "import csv"
   ]
  },
  {
   "attachments": {},
   "cell_type": "markdown",
   "metadata": {},
   "source": [
    "# Homography matrix (2 images)"
   ]
  },
  {
   "cell_type": "code",
   "execution_count": 4,
   "metadata": {},
   "outputs": [
    {
     "data": {
      "text/plain": [
       "True"
      ]
     },
     "execution_count": 4,
     "metadata": {},
     "output_type": "execute_result"
    }
   ],
   "source": [
    " \n",
    "# Open the image files.\n",
    "img1_color = cv2.imread(\"/mnt/buf/PSI/Multispec/2023.04.21_alignment_photo/Original images/1st alignment_ch0.png\")  # Image to be aligned.\n",
    "img2_color = cv2.imread(\"/mnt/buf/PSI/Multispec/2023.04.21_alignment_photo/Original images/1st alignment_ch5.png\")     # Reference image.\n",
    "\n",
    "# Convert to grayscale.\n",
    "img1 = cv2.cvtColor(img1_color, cv2.COLOR_BGR2GRAY)\n",
    "img2 = cv2.cvtColor(img2_color, cv2.COLOR_BGR2GRAY)\n",
    "height, width = img2.shape\n",
    "  \n",
    "# Create ORB detector with 5000 features.\n",
    "orb_detector = cv2.ORB_create(5000)\n",
    "  \n",
    "# Find keypoints and descriptors.\n",
    "# The first arg is the image, second arg is the mask\n",
    "#  (which is not required in this case).\n",
    "kp1, d1 = orb_detector.detectAndCompute(img1, None)\n",
    "kp2, d2 = orb_detector.detectAndCompute(img2, None)\n",
    "  \n",
    "# Match features between the two images.\n",
    "# We create a Brute Force matcher with \n",
    "# Hamming distance as measurement mode.\n",
    "matcher = cv2.BFMatcher(cv2.NORM_HAMMING, crossCheck = True)\n",
    "  \n",
    "# Match the two sets of descriptors.\n",
    "matches = list(matcher.match(d1, d2))\n",
    "  \n",
    "# Sort matches on the basis of their Hamming distance.\n",
    "matches.sort(key = lambda x: x.distance)\n",
    "  \n",
    "# Take the top 90 % matches forward.\n",
    "matches = matches[:int(len(matches)*0.9)]\n",
    "no_of_matches = len(matches)\n",
    "  \n",
    "# Define empty matrices of shape no_of_matches * 2.\n",
    "p1 = np.zeros((no_of_matches, 2))\n",
    "p2 = np.zeros((no_of_matches, 2))\n",
    "  \n",
    "for i in range(len(matches)):\n",
    "  p1[i, :] = kp1[matches[i].queryIdx].pt\n",
    "  p2[i, :] = kp2[matches[i].trainIdx].pt\n",
    "  \n",
    "# Find the homography matrix.\n",
    "homography, mask = cv2.findHomography(p1, p2, cv2.RANSAC)\n",
    "  \n",
    "%%time\n",
    "# Use this matrix to transform the\n",
    "# colored image wrt the reference image.\n",
    "transformed_img = cv2.warpPerspective(img1_color,\n",
    "                    homography, (width, height))\n",
    "  \n",
    "# Save the output.\n",
    "cv2.imwrite('output.png', transformed_img)"
   ]
  },
  {
   "attachments": {},
   "cell_type": "markdown",
   "metadata": {},
   "source": [
    "## All images in the folder (homography)"
   ]
  },
  {
   "cell_type": "code",
   "execution_count": 13,
   "metadata": {},
   "outputs": [],
   "source": [
    "\n",
    "def retrieve_images(root_dir=Path('/mnt/buf/PSI/Multispec/Code/Registration(Medium)/FIRE/Images'), template_img=0):\n",
    "\n",
    "    # Get the list of image filenames (I left only those, which apparently represented same eye)\n",
    "    image_filenames = [f for f in os.listdir(root_dir)]\n",
    "    \n",
    "    # Read the images into a list\n",
    "    images = [cv2.imread(str(root_dir / f)) for f in image_filenames]\n",
    "    # Convert the images to grayscale\n",
    "    gray_images = [cv2.cvtColor(img, cv2.COLOR_BGR2GRAY) for img in images]\n",
    "    # Register all images to the first image\n",
    "    template = gray_images[template_img]\n",
    "\n",
    "    height, width = template.shape\n",
    "    \n",
    "    # Create ORB detector with 5000 features.\n",
    "    orb_detector = cv2.ORB_create(5000)\n",
    "    \n",
    "    # Find keypoints and descriptors.\n",
    "    # The first arg is the image, second arg is the mask\n",
    "    #  (which is not required in this case).\n",
    "    kt, dt = orb_detector.detectAndCompute(template, None)\n",
    "    homography_arr = []\n",
    "    for num, image in enumerate(gray_images):\n",
    "        k2, d2 = orb_detector.detectAndCompute(image, None)\n",
    "    \n",
    "        # Match features between the two images.\n",
    "        # We create a Brute Force matcher with \n",
    "        # Hamming distance as measurement mode.\n",
    "        matcher = cv2.BFMatcher(cv2.NORM_HAMMING, crossCheck = True)\n",
    "        \n",
    "        # Match the two sets of descriptors.\n",
    "        matches = list(matcher.match(dt, d2))\n",
    "        \n",
    "        # Sort matches on the basis of their Hamming distance.\n",
    "        matches.sort(key = lambda x: x.distance)\n",
    "        \n",
    "        # Take the top 90 % matches forward.\n",
    "        matches = matches[:int(len(matches)*0.9)]\n",
    "        no_of_matches = len(matches)\n",
    "        \n",
    "        # Define empty matrices of shape no_of_matches * 2.\n",
    "        pt = np.zeros((no_of_matches, 2))\n",
    "        p2 = np.zeros((no_of_matches, 2))\n",
    "        \n",
    "        for i in range(len(matches)):\n",
    "            pt[i, :] = kt[matches[i].queryIdx].pt\n",
    "            p2[i, :] = k2[matches[i].trainIdx].pt\n",
    "        \n",
    "        # Find the homography matrix.\n",
    "        homography, mask = cv2.findHomography(p2, pt, cv2.RANSAC)\n",
    "        homography_arr.append(homography)\n",
    "        # Use this matrix to transform the\n",
    "        # colored image wrt the reference image.\n",
    "        transformed_img = cv2.warpPerspective(images[num],\n",
    "                            homography, (width, height))\n",
    "        \n",
    "        # Save the output.\n",
    "        cv2.imwrite(f'output_channel{num}.png', transformed_img)\n",
    "    # now we save homography_arr as csv file\n",
    "\n",
    "    b = open('homography_matrices.csv', 'w')\n",
    "    a = csv.writer(b)\n",
    "    a.writerows(homography_arr)\n",
    "    b.close()\n",
    "    b\n",
    "    return homography_arr\n",
    "        \n",
    "                \n",
    "            \n",
    "\n"
   ]
  },
  {
   "attachments": {},
   "cell_type": "markdown",
   "metadata": {},
   "source": [
    "## Homography matrix decomposition (so far failing)"
   ]
  },
  {
   "cell_type": "code",
   "execution_count": 9,
   "metadata": {},
   "outputs": [],
   "source": [
    "def decompose_homography(H):\n",
    "    # Extract rotation and translation\n",
    "    R = H[:2, :2]\n",
    "    t = H[:2, 2]\n",
    "    \n",
    "    # Calculate rotation angle in degrees\n",
    "    theta = np.arctan2(R[1, 0], R[0, 0]) * 180 / np.pi\n",
    "    \n",
    "    # Calculate pixel shift in x and y directions\n",
    "    shift_x = t[0]\n",
    "    shift_y = t[1]\n",
    "    # Calculate scaling factor\n",
    "    s = np.linalg.norm(R[:, 0]) + np.linalg.norm(R[:, 1]) / 2\n",
    "    \n",
    "    \n",
    "    return shift_x, shift_y, theta, s"
   ]
  },
  {
   "cell_type": "code",
   "execution_count": 14,
   "metadata": {},
   "outputs": [
    {
     "name": "stdout",
     "output_type": "stream",
     "text": [
      "--------------Channel 0---------------\n",
      "Pixel shift in x of channel 0 is: 2.26\n",
      "Pixel shift in y of channel 0 is: 1.81\n",
      "Rotation in channel 0 is 0.03 degrees: \n",
      " \n",
      "--------------Channel 1---------------\n",
      "Pixel shift in x of channel 1 is: 6.21\n",
      "Pixel shift in y of channel 1 is: 4.5\n",
      "Rotation in channel 1 is 0.03 degrees: \n",
      " \n",
      "--------------Channel 2---------------\n",
      "Pixel shift in x of channel 2 is: -0.16\n",
      "Pixel shift in y of channel 2 is: -0.16\n",
      "Rotation in channel 2 is 0.01 degrees: \n",
      " \n",
      "--------------Channel 3---------------\n",
      "Pixel shift in x of channel 3 is: -1.99\n",
      "Pixel shift in y of channel 3 is: -0.94\n",
      "Rotation in channel 3 is -0.06 degrees: \n",
      " \n",
      "--------------Channel 4---------------\n",
      "Pixel shift in x of channel 4 is: 0.0\n",
      "Pixel shift in y of channel 4 is: 0.0\n",
      "Rotation in channel 4 is 0.0 degrees: \n",
      " \n",
      "--------------Channel 5---------------\n",
      "Pixel shift in x of channel 5 is: -2.31\n",
      "Pixel shift in y of channel 5 is: -1.14\n",
      "Rotation in channel 5 is -0.04 degrees: \n",
      " \n",
      "CPU times: user 13 s, sys: 405 ms, total: 13.4 s\n",
      "Wall time: 4.33 s\n"
     ]
    }
   ],
   "source": [
    "%%time\n",
    "hom_arr = retrieve_images(template_img=4)\n",
    "for num, arr in enumerate(hom_arr):\n",
    "    # Example usage\n",
    "    shift_x, shift_y, theta, s = decompose_homography(arr)\n",
    "    print(f\"--------------Channel {num}---------------\")\n",
    "    print(f\"Pixel shift in x of channel {num} is: {round(shift_x,2)}\")\n",
    "    print(f\"Pixel shift in y of channel {num} is: {round(shift_y, 2)}\")\n",
    "    print(f\"Rotation in channel {num} is {round(theta, 2)} degrees: \")\n",
    "    print(f\" \")\n",
    "    \n"
   ]
  },
  {
   "attachments": {},
   "cell_type": "markdown",
   "metadata": {},
   "source": [
    "# Affine transformation variant\n",
    "(should be a bit faster, but little bit less precise)"
   ]
  },
  {
   "cell_type": "code",
   "execution_count": 26,
   "metadata": {},
   "outputs": [
    {
     "data": {
      "text/plain": [
       "True"
      ]
     },
     "execution_count": 26,
     "metadata": {},
     "output_type": "execute_result"
    }
   ],
   "source": [
    "# Open the image files.\n",
    "img1_color = cv2.imread(\"/mnt/buf/PSI/Multispec/2023.04.21_alignment_photo/Original images/1st alignment_ch0.png\")  # Image to be aligned.\n",
    "img2_color = cv2.imread(\"/mnt/buf/PSI/Multispec/2023.04.21_alignment_photo/Original images/1st alignment_ch5.png\")     # Reference image.\n",
    "\n",
    "# Convert to grayscale.\n",
    "img1 = cv2.cvtColor(img1_color, cv2.COLOR_BGR2GRAY)\n",
    "img2 = cv2.cvtColor(img2_color, cv2.COLOR_BGR2GRAY)\n",
    "height, width = img2.shape\n",
    "\n",
    "# Create ORB detector with 5000 features.\n",
    "orb_detector = cv2.ORB_create(5000)\n",
    "\n",
    "# Find keypoints and descriptors.\n",
    "kp1, d1 = orb_detector.detectAndCompute(img1, None)\n",
    "kp2, d2 = orb_detector.detectAndCompute(img2, None)\n",
    "\n",
    "# Match features between the two images.\n",
    "matcher = cv2.BFMatcher(cv2.NORM_HAMMING, crossCheck=True)\n",
    "matches = list(matcher.match(d1, d2))\n",
    "\n",
    "# Sort matches based on distance.\n",
    "matches.sort(key=lambda x: x.distance)\n",
    "\n",
    "# Take the top 90% matches.\n",
    "matches = matches[:int(len(matches)*0.9)]\n",
    "\n",
    "# Extract matched keypoints.\n",
    "src_pts = np.float32([kp1[m.queryIdx].pt for m in matches]).reshape(-1, 1, 2)\n",
    "dst_pts = np.float32([kp2[m.trainIdx].pt for m in matches]).reshape(-1, 1, 2)\n",
    "\n",
    "# Find affine transform.\n",
    "affine, mask = cv2.estimateAffine2D(src_pts, dst_pts, method=cv2.RANSAC, ransacReprojThreshold=5)\n",
    "\n",
    "# Apply transform to the image.\n",
    "transformed_img = cv2.warpAffine(img1_color, affine, (width, height))\n",
    "\n",
    "# Save the output.\n",
    "cv2.imwrite('Affine_output.png', transformed_img)\n"
   ]
  },
  {
   "attachments": {},
   "cell_type": "markdown",
   "metadata": {},
   "source": [
    "# Geometric similar transformation \n",
    "### (affine with 4 DOF - translation (x; y), rotation, scaling)\n",
    "**Less precise, but easy for decomposition**"
   ]
  },
  {
   "cell_type": "code",
   "execution_count": 4,
   "metadata": {},
   "outputs": [
    {
     "data": {
      "text/plain": [
       "True"
      ]
     },
     "execution_count": 4,
     "metadata": {},
     "output_type": "execute_result"
    }
   ],
   "source": [
    "  \n",
    "# Open the image files.\n",
    "img1_color = cv2.imread(\"/mnt/buf/PSI/Multispec/2023.04.21_alignment_photo/Original images/1st alignment_ch0.png\")  # Image to be aligned.\n",
    "img2_color = cv2.imread(\"/mnt/buf/PSI/Multispec/2023.04.21_alignment_photo/Original images/1st alignment_ch5.png\")     # Reference image.\n",
    "\n",
    "# Convert to grayscale.\n",
    "img1 = cv2.cvtColor(img1_color, cv2.COLOR_BGR2GRAY)\n",
    "img2 = cv2.cvtColor(img2_color, cv2.COLOR_BGR2GRAY)\n",
    "height, width = img2.shape\n",
    "  \n",
    "# Create ORB detector with 5000 features.\n",
    "orb_detector = cv2.ORB_create(5000)\n",
    "  \n",
    "# Find keypoints and descriptors.\n",
    "# The first arg is the image, second arg is the mask\n",
    "#  (which is not required in this case).\n",
    "kp1, d1 = orb_detector.detectAndCompute(img1, None)\n",
    "kp2, d2 = orb_detector.detectAndCompute(img2, None)\n",
    "  \n",
    "# Match features between the two images.\n",
    "# We create a Brute Force matcher with \n",
    "# Hamming distance as measurement mode.\n",
    "matcher = cv2.BFMatcher(cv2.NORM_HAMMING, crossCheck = True)\n",
    "  \n",
    "# Match the two sets of descriptors.\n",
    "matches = list(matcher.match(d1, d2))\n",
    "  \n",
    "# Sort matches on the basis of their Hamming distance.\n",
    "matches.sort(key = lambda x: x.distance)\n",
    "  \n",
    "# Take the top 90 % matches forward.\n",
    "matches = matches[:int(len(matches)*0.9)]\n",
    "no_of_matches = len(matches)\n",
    "  \n",
    "# Define empty matrices of shape no_of_matches * 2.\n",
    "p1 = np.zeros((no_of_matches, 2))\n",
    "p2 = np.zeros((no_of_matches, 2))\n",
    "  \n",
    "for i in range(len(matches)):\n",
    "  p1[i, :] = kp1[matches[i].queryIdx].pt\n",
    "  p2[i, :] = kp2[matches[i].trainIdx].pt\n",
    "  \n",
    "# Find the affine transformation matrix.\n",
    "affine_transform, mask = cv2.estimateAffinePartial2D(p1, p2, cv2.RANSAC)\n",
    "  \n",
    "# Use this matrix to transform the\n",
    "# colored image wrt the reference image.\n",
    "transformed_img = cv2.warpAffine(img1_color, affine_transform, (width, height))\n",
    "  \n",
    "# Save the output.\n",
    "cv2.imwrite('output.png', transformed_img)\n",
    "cv2.imwrite('img1_orig.png', img1)\n",
    "cv2.imwrite('img2_orig.png', img2)\n"
   ]
  },
  {
   "cell_type": "code",
   "execution_count": 45,
   "metadata": {},
   "outputs": [],
   "source": [
    "tn_teta = round(round(affine_transform[1,0], 6)/round(affine_transform[0,0], 6),6)\n",
    "teta_degrees = round(np.arctan(tn_teta)*180/np.pi, 6)\n",
    "scaling = round(affine_transform[0,0]/np.cos(teta_degrees*np.pi/180), 6)"
   ]
  },
  {
   "cell_type": "code",
   "execution_count": 44,
   "metadata": {},
   "outputs": [
    {
     "name": "stdout",
     "output_type": "stream",
     "text": [
      "Pixel shift in x is: 13.59\n",
      "Pixel shift in y is: -3.25\n",
      "Rotation is 0.467 degrees: \n",
      "Scale coeficient is 0.996597\n"
     ]
    }
   ],
   "source": [
    "print(f\"Pixel shift in x is: {round(affine_transform[0,2],2)}\")\n",
    "print(f\"Pixel shift in y is: {round(affine_transform[1,2],2)}\")\n",
    "print(f\"Rotation is {round(teta_degrees, 4)} degrees: \")\n",
    "print(f\"Scale coeficient is {scaling}\")"
   ]
  },
  {
   "attachments": {
    "image.png": {
     "image/png": "[encoded data removed]"
    }
   },
   "cell_type": "markdown",
   "metadata": {},
   "source": [
    "![image.png](attachment:image.png)"
   ]
  },
  {
   "cell_type": "code",
   "execution_count": 26,
   "metadata": {},
   "outputs": [],
   "source": [
    "arctan_teta = np.arctan(tn_teta)"
   ]
  },
  {
   "cell_type": "code",
   "execution_count": 27,
   "metadata": {},
   "outputs": [
    {
     "data": {
      "text/plain": [
       "-0.008150826352087"
      ]
     },
     "execution_count": 27,
     "metadata": {},
     "output_type": "execute_result"
    }
   ],
   "source": [
    "arctan_teta"
   ]
  },
  {
   "cell_type": "code",
   "execution_count": null,
   "metadata": {},
   "outputs": [],
   "source": []
  }
 ],
 "metadata": {
  "kernelspec": {
   "display_name": "Python 3",
   "language": "python",
   "name": "python3"
  },
  "language_info": {
   "codemirror_mode": {
    "name": "ipython",
    "version": 3
   },
   "file_extension": ".py",
   "mimetype": "text/x-python",
   "name": "python",
   "nbconvert_exporter": "python",
   "pygments_lexer": "ipython3",
   "version": "3.10.6"
  },
  "orig_nbformat": 4
 },
 "nbformat": 4,
 "nbformat_minor": 2
}
